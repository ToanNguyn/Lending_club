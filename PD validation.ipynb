{
 "cells": [
  {
   "cell_type": "markdown",
   "id": "9732b171",
   "metadata": {},
   "source": [
    "# I. Importing libraries and dataset "
   ]
  },
  {
   "cell_type": "code",
   "execution_count": 26,
   "id": "02f767e0",
   "metadata": {},
   "outputs": [],
   "source": [
    "import pandas as pd    \n",
    "from sklearn.linear_model import LogisticRegression\n",
    "from sklearn import metrics\n",
    "import numpy as np\n",
    "import pickle\n",
    "from sklearn import linear_model\n",
    "import scipy.stats as stat\n",
    "import matplotlib.pyplot as plt\n",
    "import seaborn as sns\n",
    "sns.set()\n",
    "from sklearn.metrics import roc_curve, roc_auc_score\n",
    "import warnings\n",
    "warnings.filterwarnings('ignore')"
   ]
  },
  {
   "cell_type": "code",
   "execution_count": 27,
   "id": "19f1f847",
   "metadata": {},
   "outputs": [],
   "source": [
    "loan_data_inputs_test = pd.read_csv('X_test.csv', index_col = 0)\n",
    "loan_data_targets_test = pd.read_csv('y_test.csv', index_col = 0)"
   ]
  },
  {
   "cell_type": "code",
   "execution_count": 28,
   "id": "0ab612b6",
   "metadata": {},
   "outputs": [],
   "source": [
    "loaded_model = pickle.load(open('pd_model.sav', 'rb'))  "
   ]
  },
  {
   "cell_type": "code",
   "execution_count": 29,
   "id": "b0b27a80",
   "metadata": {},
   "outputs": [],
   "source": [
    "feature_list = pickle.load(open('feature_list', 'rb'))\n",
    "ref_categories = pickle.load(open('ref_categories', 'rb'))"
   ]
  },
  {
   "cell_type": "markdown",
   "id": "a86d6f18",
   "metadata": {},
   "source": [
    "# II. Out-of-sample validation "
   ]
  },
  {
   "cell_type": "code",
   "execution_count": 30,
   "id": "ffd26cf8",
   "metadata": {},
   "outputs": [],
   "source": [
    "inputs_test_with_ref_cat = loan_data_inputs_test.loc[: , feature_list]"
   ]
  },
  {
   "cell_type": "code",
   "execution_count": 31,
   "id": "66a7cece",
   "metadata": {},
   "outputs": [],
   "source": [
    "pd.options.display.max_rows = None"
   ]
  },
  {
   "cell_type": "code",
   "execution_count": 32,
   "id": "b5c99aef",
   "metadata": {},
   "outputs": [
    {
     "data": {
      "text/html": [
       "<div>\n",
       "<style scoped>\n",
       "    .dataframe tbody tr th:only-of-type {\n",
       "        vertical-align: middle;\n",
       "    }\n",
       "\n",
       "    .dataframe tbody tr th {\n",
       "        vertical-align: top;\n",
       "    }\n",
       "\n",
       "    .dataframe thead th {\n",
       "        text-align: right;\n",
       "    }\n",
       "</style>\n",
       "<table border=\"1\" class=\"dataframe\">\n",
       "  <thead>\n",
       "    <tr style=\"text-align: right;\">\n",
       "      <th></th>\n",
       "      <th>grade:A</th>\n",
       "      <th>grade:B</th>\n",
       "      <th>grade:C</th>\n",
       "      <th>grade:D</th>\n",
       "      <th>grade:E</th>\n",
       "      <th>grade:F</th>\n",
       "      <th>home_ownership:OWN</th>\n",
       "      <th>home_ownership:MORTGAGE</th>\n",
       "      <th>addr_state:NV_FL_HI_AL</th>\n",
       "      <th>addr_state:NM_VA</th>\n",
       "      <th>...</th>\n",
       "      <th>mths_since_last_record:Missing</th>\n",
       "      <th>mths_since_last_record:2.42-38.72</th>\n",
       "      <th>mths_since_last_record:38.72-48.4</th>\n",
       "      <th>mths_since_last_record:48.4-62.92</th>\n",
       "      <th>mths_since_last_record:62.92-65.34</th>\n",
       "      <th>mths_since_last_record:65.34-77.44</th>\n",
       "      <th>mths_since_last_record:77.44-82.28</th>\n",
       "      <th>mths_since_last_record:82.28-94.38</th>\n",
       "      <th>mths_since_last_record:94.38-106.48</th>\n",
       "      <th>mths_since_last_record:&gt;106.48</th>\n",
       "    </tr>\n",
       "  </thead>\n",
       "  <tbody>\n",
       "    <tr>\n",
       "      <th>362514</th>\n",
       "      <td>0</td>\n",
       "      <td>0</td>\n",
       "      <td>1</td>\n",
       "      <td>0</td>\n",
       "      <td>0</td>\n",
       "      <td>0</td>\n",
       "      <td>0</td>\n",
       "      <td>1</td>\n",
       "      <td>0</td>\n",
       "      <td>0</td>\n",
       "      <td>...</td>\n",
       "      <td>1</td>\n",
       "      <td>0</td>\n",
       "      <td>0</td>\n",
       "      <td>0</td>\n",
       "      <td>0</td>\n",
       "      <td>0</td>\n",
       "      <td>0</td>\n",
       "      <td>0</td>\n",
       "      <td>0</td>\n",
       "      <td>0</td>\n",
       "    </tr>\n",
       "    <tr>\n",
       "      <th>288564</th>\n",
       "      <td>0</td>\n",
       "      <td>0</td>\n",
       "      <td>0</td>\n",
       "      <td>0</td>\n",
       "      <td>1</td>\n",
       "      <td>0</td>\n",
       "      <td>0</td>\n",
       "      <td>1</td>\n",
       "      <td>0</td>\n",
       "      <td>0</td>\n",
       "      <td>...</td>\n",
       "      <td>1</td>\n",
       "      <td>0</td>\n",
       "      <td>0</td>\n",
       "      <td>0</td>\n",
       "      <td>0</td>\n",
       "      <td>0</td>\n",
       "      <td>0</td>\n",
       "      <td>0</td>\n",
       "      <td>0</td>\n",
       "      <td>0</td>\n",
       "    </tr>\n",
       "    <tr>\n",
       "      <th>213591</th>\n",
       "      <td>0</td>\n",
       "      <td>0</td>\n",
       "      <td>1</td>\n",
       "      <td>0</td>\n",
       "      <td>0</td>\n",
       "      <td>0</td>\n",
       "      <td>0</td>\n",
       "      <td>1</td>\n",
       "      <td>0</td>\n",
       "      <td>0</td>\n",
       "      <td>...</td>\n",
       "      <td>1</td>\n",
       "      <td>0</td>\n",
       "      <td>0</td>\n",
       "      <td>0</td>\n",
       "      <td>0</td>\n",
       "      <td>0</td>\n",
       "      <td>0</td>\n",
       "      <td>0</td>\n",
       "      <td>0</td>\n",
       "      <td>0</td>\n",
       "    </tr>\n",
       "    <tr>\n",
       "      <th>263083</th>\n",
       "      <td>0</td>\n",
       "      <td>0</td>\n",
       "      <td>1</td>\n",
       "      <td>0</td>\n",
       "      <td>0</td>\n",
       "      <td>0</td>\n",
       "      <td>0</td>\n",
       "      <td>1</td>\n",
       "      <td>0</td>\n",
       "      <td>0</td>\n",
       "      <td>...</td>\n",
       "      <td>1</td>\n",
       "      <td>0</td>\n",
       "      <td>0</td>\n",
       "      <td>0</td>\n",
       "      <td>0</td>\n",
       "      <td>0</td>\n",
       "      <td>0</td>\n",
       "      <td>0</td>\n",
       "      <td>0</td>\n",
       "      <td>0</td>\n",
       "    </tr>\n",
       "    <tr>\n",
       "      <th>165001</th>\n",
       "      <td>1</td>\n",
       "      <td>0</td>\n",
       "      <td>0</td>\n",
       "      <td>0</td>\n",
       "      <td>0</td>\n",
       "      <td>0</td>\n",
       "      <td>0</td>\n",
       "      <td>1</td>\n",
       "      <td>0</td>\n",
       "      <td>0</td>\n",
       "      <td>...</td>\n",
       "      <td>1</td>\n",
       "      <td>0</td>\n",
       "      <td>0</td>\n",
       "      <td>0</td>\n",
       "      <td>0</td>\n",
       "      <td>0</td>\n",
       "      <td>0</td>\n",
       "      <td>0</td>\n",
       "      <td>0</td>\n",
       "      <td>0</td>\n",
       "    </tr>\n",
       "  </tbody>\n",
       "</table>\n",
       "<p>5 rows × 82 columns</p>\n",
       "</div>"
      ],
      "text/plain": [
       "        grade:A  grade:B  grade:C  grade:D  grade:E  grade:F  \\\n",
       "362514        0        0        1        0        0        0   \n",
       "288564        0        0        0        0        1        0   \n",
       "213591        0        0        1        0        0        0   \n",
       "263083        0        0        1        0        0        0   \n",
       "165001        1        0        0        0        0        0   \n",
       "\n",
       "        home_ownership:OWN  home_ownership:MORTGAGE  addr_state:NV_FL_HI_AL  \\\n",
       "362514                   0                        1                       0   \n",
       "288564                   0                        1                       0   \n",
       "213591                   0                        1                       0   \n",
       "263083                   0                        1                       0   \n",
       "165001                   0                        1                       0   \n",
       "\n",
       "        addr_state:NM_VA  ...  mths_since_last_record:Missing  \\\n",
       "362514                 0  ...                               1   \n",
       "288564                 0  ...                               1   \n",
       "213591                 0  ...                               1   \n",
       "263083                 0  ...                               1   \n",
       "165001                 0  ...                               1   \n",
       "\n",
       "        mths_since_last_record:2.42-38.72  mths_since_last_record:38.72-48.4  \\\n",
       "362514                                  0                                  0   \n",
       "288564                                  0                                  0   \n",
       "213591                                  0                                  0   \n",
       "263083                                  0                                  0   \n",
       "165001                                  0                                  0   \n",
       "\n",
       "        mths_since_last_record:48.4-62.92  mths_since_last_record:62.92-65.34  \\\n",
       "362514                                  0                                   0   \n",
       "288564                                  0                                   0   \n",
       "213591                                  0                                   0   \n",
       "263083                                  0                                   0   \n",
       "165001                                  0                                   0   \n",
       "\n",
       "        mths_since_last_record:65.34-77.44  \\\n",
       "362514                                   0   \n",
       "288564                                   0   \n",
       "213591                                   0   \n",
       "263083                                   0   \n",
       "165001                                   0   \n",
       "\n",
       "        mths_since_last_record:77.44-82.28  \\\n",
       "362514                                   0   \n",
       "288564                                   0   \n",
       "213591                                   0   \n",
       "263083                                   0   \n",
       "165001                                   0   \n",
       "\n",
       "        mths_since_last_record:82.28-94.38  \\\n",
       "362514                                   0   \n",
       "288564                                   0   \n",
       "213591                                   0   \n",
       "263083                                   0   \n",
       "165001                                   0   \n",
       "\n",
       "        mths_since_last_record:94.38-106.48  mths_since_last_record:>106.48  \n",
       "362514                                    0                               0  \n",
       "288564                                    0                               0  \n",
       "213591                                    0                               0  \n",
       "263083                                    0                               0  \n",
       "165001                                    0                               0  \n",
       "\n",
       "[5 rows x 82 columns]"
      ]
     },
     "execution_count": 32,
     "metadata": {},
     "output_type": "execute_result"
    }
   ],
   "source": [
    "inputs_test = inputs_test_with_ref_cat.drop(ref_categories, axis = 1)\n",
    "inputs_test.head()"
   ]
  },
  {
   "cell_type": "code",
   "execution_count": 33,
   "id": "a881224a",
   "metadata": {},
   "outputs": [],
   "source": [
    "y_hat_test = loaded_model.model.predict(inputs_test)"
   ]
  },
  {
   "cell_type": "code",
   "execution_count": 34,
   "id": "d13f42e3",
   "metadata": {},
   "outputs": [],
   "source": [
    "y_hat_test_proba = loaded_model.model.predict_proba(inputs_test)\n",
    "# y_hat_test_proba"
   ]
  },
  {
   "cell_type": "code",
   "execution_count": 35,
   "id": "959e1f0f",
   "metadata": {},
   "outputs": [
    {
     "data": {
      "text/plain": [
       "array([0.92374894, 0.84439152, 0.87583998, ..., 0.96878815, 0.95560428,\n",
       "       0.94755077])"
      ]
     },
     "execution_count": 35,
     "metadata": {},
     "output_type": "execute_result"
    }
   ],
   "source": [
    "y_hat_test_proba = y_hat_test_proba[: ][: , 1]\n",
    "y_hat_test_proba"
   ]
  },
  {
   "cell_type": "code",
   "execution_count": 36,
   "id": "5c7ac838",
   "metadata": {},
   "outputs": [
    {
     "data": {
      "text/html": [
       "<div>\n",
       "<style scoped>\n",
       "    .dataframe tbody tr th:only-of-type {\n",
       "        vertical-align: middle;\n",
       "    }\n",
       "\n",
       "    .dataframe tbody tr th {\n",
       "        vertical-align: top;\n",
       "    }\n",
       "\n",
       "    .dataframe thead th {\n",
       "        text-align: right;\n",
       "    }\n",
       "</style>\n",
       "<table border=\"1\" class=\"dataframe\">\n",
       "  <thead>\n",
       "    <tr style=\"text-align: right;\">\n",
       "      <th></th>\n",
       "      <th>loan_data_targets_test</th>\n",
       "      <th>y_hat_test_proba</th>\n",
       "    </tr>\n",
       "  </thead>\n",
       "  <tbody>\n",
       "    <tr>\n",
       "      <th>362514</th>\n",
       "      <td>1</td>\n",
       "      <td>0.923749</td>\n",
       "    </tr>\n",
       "    <tr>\n",
       "      <th>288564</th>\n",
       "      <td>1</td>\n",
       "      <td>0.844392</td>\n",
       "    </tr>\n",
       "    <tr>\n",
       "      <th>213591</th>\n",
       "      <td>1</td>\n",
       "      <td>0.875840</td>\n",
       "    </tr>\n",
       "    <tr>\n",
       "      <th>263083</th>\n",
       "      <td>1</td>\n",
       "      <td>0.939602</td>\n",
       "    </tr>\n",
       "    <tr>\n",
       "      <th>165001</th>\n",
       "      <td>1</td>\n",
       "      <td>0.964845</td>\n",
       "    </tr>\n",
       "  </tbody>\n",
       "</table>\n",
       "</div>"
      ],
      "text/plain": [
       "        loan_data_targets_test  y_hat_test_proba\n",
       "362514                       1          0.923749\n",
       "288564                       1          0.844392\n",
       "213591                       1          0.875840\n",
       "263083                       1          0.939602\n",
       "165001                       1          0.964845"
      ]
     },
     "execution_count": 36,
     "metadata": {},
     "output_type": "execute_result"
    }
   ],
   "source": [
    "loan_data_targets_test_temp = loan_data_targets_test\n",
    "loan_data_targets_test_temp.reset_index(drop = True, inplace = True)\n",
    "df_actual_predicted_probs = pd.concat([loan_data_targets_test_temp, pd.DataFrame(y_hat_test_proba)], axis = 1)\n",
    "df_actual_predicted_probs.columns = ['loan_data_targets_test', 'y_hat_test_proba']\n",
    "df_actual_predicted_probs.index = loan_data_inputs_test.index\n",
    "df_actual_predicted_probs.head()"
   ]
  },
  {
   "cell_type": "markdown",
   "id": "18a206d4",
   "metadata": {},
   "source": [
    "## 1. Accuracy "
   ]
  },
  {
   "cell_type": "code",
   "execution_count": null,
   "id": "27b36ad7",
   "metadata": {},
   "outputs": [],
   "source": [
    "# threshold = 0.9 \n",
    "tr = 0.9\n",
    "df_actual_predicted_probs['y_hat_test'] = np.where(df_actual_predicted_probs['y_hat_test_proba'] > tr, 1, 0)"
   ]
  },
  {
   "cell_type": "markdown",
   "id": "3cd71838",
   "metadata": {},
   "source": [
    "Confusion matrix"
   ]
  },
  {
   "cell_type": "code",
   "execution_count": 38,
   "id": "e16a0123",
   "metadata": {},
   "outputs": [
    {
     "data": {
      "text/html": [
       "<div>\n",
       "<style scoped>\n",
       "    .dataframe tbody tr th:only-of-type {\n",
       "        vertical-align: middle;\n",
       "    }\n",
       "\n",
       "    .dataframe tbody tr th {\n",
       "        vertical-align: top;\n",
       "    }\n",
       "\n",
       "    .dataframe thead th {\n",
       "        text-align: right;\n",
       "    }\n",
       "</style>\n",
       "<table border=\"1\" class=\"dataframe\">\n",
       "  <thead>\n",
       "    <tr style=\"text-align: right;\">\n",
       "      <th>Predicted</th>\n",
       "      <th>0</th>\n",
       "      <th>1</th>\n",
       "    </tr>\n",
       "    <tr>\n",
       "      <th>Actual</th>\n",
       "      <th></th>\n",
       "      <th></th>\n",
       "    </tr>\n",
       "  </thead>\n",
       "  <tbody>\n",
       "    <tr>\n",
       "      <th>0</th>\n",
       "      <td>7384</td>\n",
       "      <td>2806</td>\n",
       "    </tr>\n",
       "    <tr>\n",
       "      <th>1</th>\n",
       "      <td>36107</td>\n",
       "      <td>46960</td>\n",
       "    </tr>\n",
       "  </tbody>\n",
       "</table>\n",
       "</div>"
      ],
      "text/plain": [
       "Predicted      0      1\n",
       "Actual                 \n",
       "0           7384   2806\n",
       "1          36107  46960"
      ]
     },
     "execution_count": 38,
     "metadata": {},
     "output_type": "execute_result"
    }
   ],
   "source": [
    "pd.crosstab(df_actual_predicted_probs['loan_data_targets_test'], df_actual_predicted_probs['y_hat_test'],\n",
    "           rownames = ['Actual'], colnames = ['Predicted'])"
   ]
  },
  {
   "cell_type": "code",
   "execution_count": 39,
   "id": "c1221cd8",
   "metadata": {},
   "outputs": [
    {
     "data": {
      "text/html": [
       "<div>\n",
       "<style scoped>\n",
       "    .dataframe tbody tr th:only-of-type {\n",
       "        vertical-align: middle;\n",
       "    }\n",
       "\n",
       "    .dataframe tbody tr th {\n",
       "        vertical-align: top;\n",
       "    }\n",
       "\n",
       "    .dataframe thead th {\n",
       "        text-align: right;\n",
       "    }\n",
       "</style>\n",
       "<table border=\"1\" class=\"dataframe\">\n",
       "  <thead>\n",
       "    <tr style=\"text-align: right;\">\n",
       "      <th>Predicted</th>\n",
       "      <th>0</th>\n",
       "      <th>1</th>\n",
       "    </tr>\n",
       "    <tr>\n",
       "      <th>Actual</th>\n",
       "      <th></th>\n",
       "      <th></th>\n",
       "    </tr>\n",
       "  </thead>\n",
       "  <tbody>\n",
       "    <tr>\n",
       "      <th>0</th>\n",
       "      <td>0.079179</td>\n",
       "      <td>0.030089</td>\n",
       "    </tr>\n",
       "    <tr>\n",
       "      <th>1</th>\n",
       "      <td>0.387177</td>\n",
       "      <td>0.503555</td>\n",
       "    </tr>\n",
       "  </tbody>\n",
       "</table>\n",
       "</div>"
      ],
      "text/plain": [
       "Predicted         0         1\n",
       "Actual                       \n",
       "0          0.079179  0.030089\n",
       "1          0.387177  0.503555"
      ]
     },
     "execution_count": 39,
     "metadata": {},
     "output_type": "execute_result"
    }
   ],
   "source": [
    "pd.crosstab(df_actual_predicted_probs['loan_data_targets_test'], df_actual_predicted_probs['y_hat_test'],\n",
    "           rownames = ['Actual'], colnames = ['Predicted']) / df_actual_predicted_probs.shape[0]"
   ]
  },
  {
   "cell_type": "markdown",
   "id": "df2b1e9a",
   "metadata": {},
   "source": [
    "Accuracy"
   ]
  },
  {
   "cell_type": "code",
   "execution_count": 40,
   "id": "25355045",
   "metadata": {},
   "outputs": [
    {
     "data": {
      "text/plain": [
       "0.582733735805355"
      ]
     },
     "execution_count": 40,
     "metadata": {},
     "output_type": "execute_result"
    }
   ],
   "source": [
    "(pd.crosstab(df_actual_predicted_probs['loan_data_targets_test'], df_actual_predicted_probs['y_hat_test'],\n",
    "           rownames = ['Actual'], colnames = ['Predicted']) / df_actual_predicted_probs.shape[0]).iloc[0, 0] + (pd.crosstab(df_actual_predicted_probs['loan_data_targets_test'], df_actual_predicted_probs['y_hat_test'],\n",
    "           rownames = ['Actual'], colnames = ['Predicted']) / df_actual_predicted_probs.shape[0]).iloc[1, 1]"
   ]
  },
  {
   "cell_type": "markdown",
   "id": "c128763a",
   "metadata": {},
   "source": [
    "Overall, accuracy is not the universal measure for a PD model. The rates of the true positive predictions goods that are being correctly classified as goods and the false positive predictions bads that are incorrectly classified as goods are far more important than the overall accuracy."
   ]
  },
  {
   "cell_type": "markdown",
   "id": "c2a7df76",
   "metadata": {},
   "source": [
    "## 2. Area under the Curve (AUROC)"
   ]
  },
  {
   "cell_type": "code",
   "execution_count": 41,
   "id": "4d74eaee",
   "metadata": {},
   "outputs": [],
   "source": [
    "fpr, tpr, thresholds = roc_curve(df_actual_predicted_probs['loan_data_targets_test'],\n",
    "                                 df_actual_predicted_probs['y_hat_test_proba'])"
   ]
  },
  {
   "cell_type": "code",
   "execution_count": 42,
   "id": "7154b87c",
   "metadata": {},
   "outputs": [
    {
     "data": {
      "text/plain": [
       "Text(0.5, 1.0, 'ROC curve')"
      ]
     },
     "execution_count": 42,
     "metadata": {},
     "output_type": "execute_result"
    },
    {
     "data": {
      "image/png": "[encoded data removed]",
      "text/plain": [
       "<Figure size 640x480 with 1 Axes>"
      ]
     },
     "metadata": {},
     "output_type": "display_data"
    }
   ],
   "source": [
    "plt.plot(fpr, tpr)\n",
    "plt.plot(fpr, fpr, linestyle = '--', color = 'k')\n",
    "plt.xlabel('False positive rate')\n",
    "plt.ylabel('True positive rate')\n",
    "plt.title('ROC curve')"
   ]
  },
  {
   "cell_type": "code",
   "execution_count": 43,
   "id": "65c2ea48",
   "metadata": {},
   "outputs": [
    {
     "data": {
      "text/plain": [
       "0.6997512353702255"
      ]
     },
     "execution_count": 43,
     "metadata": {},
     "output_type": "execute_result"
    }
   ],
   "source": [
    "AUROC = roc_auc_score(df_actual_predicted_probs['loan_data_targets_test'], df_actual_predicted_probs['y_hat_test_proba'])\n",
    "AUROC"
   ]
  },
  {
   "cell_type": "markdown",
   "id": "55661b8f",
   "metadata": {},
   "source": [
    "AUROC of 60–70% reflects fair model performance."
   ]
  },
  {
   "cell_type": "markdown",
   "id": "e0b59ae1",
   "metadata": {},
   "source": [
    "## 3. Gini "
   ]
  },
  {
   "cell_type": "code",
   "execution_count": 44,
   "id": "180e1df4",
   "metadata": {},
   "outputs": [
    {
     "data": {
      "text/html": [
       "<div>\n",
       "<style scoped>\n",
       "    .dataframe tbody tr th:only-of-type {\n",
       "        vertical-align: middle;\n",
       "    }\n",
       "\n",
       "    .dataframe tbody tr th {\n",
       "        vertical-align: top;\n",
       "    }\n",
       "\n",
       "    .dataframe thead th {\n",
       "        text-align: right;\n",
       "    }\n",
       "</style>\n",
       "<table border=\"1\" class=\"dataframe\">\n",
       "  <thead>\n",
       "    <tr style=\"text-align: right;\">\n",
       "      <th></th>\n",
       "      <th>loan_data_targets_test</th>\n",
       "      <th>y_hat_test_proba</th>\n",
       "      <th>y_hat_test</th>\n",
       "    </tr>\n",
       "  </thead>\n",
       "  <tbody>\n",
       "    <tr>\n",
       "      <th>11359</th>\n",
       "      <td>0</td>\n",
       "      <td>0.445304</td>\n",
       "      <td>0</td>\n",
       "    </tr>\n",
       "    <tr>\n",
       "      <th>35448</th>\n",
       "      <td>1</td>\n",
       "      <td>0.484718</td>\n",
       "      <td>0</td>\n",
       "    </tr>\n",
       "    <tr>\n",
       "      <th>10876</th>\n",
       "      <td>0</td>\n",
       "      <td>0.485872</td>\n",
       "      <td>0</td>\n",
       "    </tr>\n",
       "    <tr>\n",
       "      <th>210472</th>\n",
       "      <td>0</td>\n",
       "      <td>0.487112</td>\n",
       "      <td>0</td>\n",
       "    </tr>\n",
       "    <tr>\n",
       "      <th>11208</th>\n",
       "      <td>0</td>\n",
       "      <td>0.507377</td>\n",
       "      <td>0</td>\n",
       "    </tr>\n",
       "  </tbody>\n",
       "</table>\n",
       "</div>"
      ],
      "text/plain": [
       "        loan_data_targets_test  y_hat_test_proba  y_hat_test\n",
       "11359                        0          0.445304           0\n",
       "35448                        1          0.484718           0\n",
       "10876                        0          0.485872           0\n",
       "210472                       0          0.487112           0\n",
       "11208                        0          0.507377           0"
      ]
     },
     "execution_count": 44,
     "metadata": {},
     "output_type": "execute_result"
    }
   ],
   "source": [
    "df_actual_predicted_probs = df_actual_predicted_probs.sort_values('y_hat_test_proba')\n",
    "df_actual_predicted_probs.head()"
   ]
  },
  {
   "cell_type": "code",
   "execution_count": 45,
   "id": "7f1714bf",
   "metadata": {},
   "outputs": [
    {
     "data": {
      "text/html": [
       "<div>\n",
       "<style scoped>\n",
       "    .dataframe tbody tr th:only-of-type {\n",
       "        vertical-align: middle;\n",
       "    }\n",
       "\n",
       "    .dataframe tbody tr th {\n",
       "        vertical-align: top;\n",
       "    }\n",
       "\n",
       "    .dataframe thead th {\n",
       "        text-align: right;\n",
       "    }\n",
       "</style>\n",
       "<table border=\"1\" class=\"dataframe\">\n",
       "  <thead>\n",
       "    <tr style=\"text-align: right;\">\n",
       "      <th></th>\n",
       "      <th>index</th>\n",
       "      <th>loan_data_targets_test</th>\n",
       "      <th>y_hat_test_proba</th>\n",
       "      <th>y_hat_test</th>\n",
       "    </tr>\n",
       "  </thead>\n",
       "  <tbody>\n",
       "    <tr>\n",
       "      <th>0</th>\n",
       "      <td>11359</td>\n",
       "      <td>0</td>\n",
       "      <td>0.445304</td>\n",
       "      <td>0</td>\n",
       "    </tr>\n",
       "    <tr>\n",
       "      <th>1</th>\n",
       "      <td>35448</td>\n",
       "      <td>1</td>\n",
       "      <td>0.484718</td>\n",
       "      <td>0</td>\n",
       "    </tr>\n",
       "    <tr>\n",
       "      <th>2</th>\n",
       "      <td>10876</td>\n",
       "      <td>0</td>\n",
       "      <td>0.485872</td>\n",
       "      <td>0</td>\n",
       "    </tr>\n",
       "    <tr>\n",
       "      <th>3</th>\n",
       "      <td>210472</td>\n",
       "      <td>0</td>\n",
       "      <td>0.487112</td>\n",
       "      <td>0</td>\n",
       "    </tr>\n",
       "    <tr>\n",
       "      <th>4</th>\n",
       "      <td>11208</td>\n",
       "      <td>0</td>\n",
       "      <td>0.507377</td>\n",
       "      <td>0</td>\n",
       "    </tr>\n",
       "  </tbody>\n",
       "</table>\n",
       "</div>"
      ],
      "text/plain": [
       "    index  loan_data_targets_test  y_hat_test_proba  y_hat_test\n",
       "0   11359                       0          0.445304           0\n",
       "1   35448                       1          0.484718           0\n",
       "2   10876                       0          0.485872           0\n",
       "3  210472                       0          0.487112           0\n",
       "4   11208                       0          0.507377           0"
      ]
     },
     "execution_count": 45,
     "metadata": {},
     "output_type": "execute_result"
    }
   ],
   "source": [
    "df_actual_predicted_probs = df_actual_predicted_probs.reset_index()\n",
    "df_actual_predicted_probs.head()"
   ]
  },
  {
   "cell_type": "code",
   "execution_count": 46,
   "id": "3a89f076",
   "metadata": {},
   "outputs": [
    {
     "data": {
      "text/html": [
       "<div>\n",
       "<style scoped>\n",
       "    .dataframe tbody tr th:only-of-type {\n",
       "        vertical-align: middle;\n",
       "    }\n",
       "\n",
       "    .dataframe tbody tr th {\n",
       "        vertical-align: top;\n",
       "    }\n",
       "\n",
       "    .dataframe thead th {\n",
       "        text-align: right;\n",
       "    }\n",
       "</style>\n",
       "<table border=\"1\" class=\"dataframe\">\n",
       "  <thead>\n",
       "    <tr style=\"text-align: right;\">\n",
       "      <th></th>\n",
       "      <th>index</th>\n",
       "      <th>loan_data_targets_test</th>\n",
       "      <th>y_hat_test_proba</th>\n",
       "      <th>y_hat_test</th>\n",
       "      <th>Cumulative N Population</th>\n",
       "      <th>Cumulative N Good</th>\n",
       "      <th>Cumulative N Bad</th>\n",
       "      <th>Cumulative Perc Population</th>\n",
       "      <th>Cumulative Perc Good</th>\n",
       "      <th>Cumulative Perc Bad</th>\n",
       "    </tr>\n",
       "  </thead>\n",
       "  <tbody>\n",
       "    <tr>\n",
       "      <th>0</th>\n",
       "      <td>11359</td>\n",
       "      <td>0</td>\n",
       "      <td>0.445304</td>\n",
       "      <td>0</td>\n",
       "      <td>1</td>\n",
       "      <td>0</td>\n",
       "      <td>1</td>\n",
       "      <td>0.000011</td>\n",
       "      <td>0.000000</td>\n",
       "      <td>0.000098</td>\n",
       "    </tr>\n",
       "    <tr>\n",
       "      <th>1</th>\n",
       "      <td>35448</td>\n",
       "      <td>1</td>\n",
       "      <td>0.484718</td>\n",
       "      <td>0</td>\n",
       "      <td>2</td>\n",
       "      <td>1</td>\n",
       "      <td>1</td>\n",
       "      <td>0.000021</td>\n",
       "      <td>0.000012</td>\n",
       "      <td>0.000098</td>\n",
       "    </tr>\n",
       "    <tr>\n",
       "      <th>2</th>\n",
       "      <td>10876</td>\n",
       "      <td>0</td>\n",
       "      <td>0.485872</td>\n",
       "      <td>0</td>\n",
       "      <td>3</td>\n",
       "      <td>1</td>\n",
       "      <td>2</td>\n",
       "      <td>0.000032</td>\n",
       "      <td>0.000012</td>\n",
       "      <td>0.000196</td>\n",
       "    </tr>\n",
       "    <tr>\n",
       "      <th>3</th>\n",
       "      <td>210472</td>\n",
       "      <td>0</td>\n",
       "      <td>0.487112</td>\n",
       "      <td>0</td>\n",
       "      <td>4</td>\n",
       "      <td>1</td>\n",
       "      <td>3</td>\n",
       "      <td>0.000043</td>\n",
       "      <td>0.000012</td>\n",
       "      <td>0.000294</td>\n",
       "    </tr>\n",
       "    <tr>\n",
       "      <th>4</th>\n",
       "      <td>11208</td>\n",
       "      <td>0</td>\n",
       "      <td>0.507377</td>\n",
       "      <td>0</td>\n",
       "      <td>5</td>\n",
       "      <td>1</td>\n",
       "      <td>4</td>\n",
       "      <td>0.000054</td>\n",
       "      <td>0.000012</td>\n",
       "      <td>0.000393</td>\n",
       "    </tr>\n",
       "  </tbody>\n",
       "</table>\n",
       "</div>"
      ],
      "text/plain": [
       "    index  loan_data_targets_test  y_hat_test_proba  y_hat_test  \\\n",
       "0   11359                       0          0.445304           0   \n",
       "1   35448                       1          0.484718           0   \n",
       "2   10876                       0          0.485872           0   \n",
       "3  210472                       0          0.487112           0   \n",
       "4   11208                       0          0.507377           0   \n",
       "\n",
       "   Cumulative N Population  Cumulative N Good  Cumulative N Bad  \\\n",
       "0                        1                  0                 1   \n",
       "1                        2                  1                 1   \n",
       "2                        3                  1                 2   \n",
       "3                        4                  1                 3   \n",
       "4                        5                  1                 4   \n",
       "\n",
       "   Cumulative Perc Population  Cumulative Perc Good  Cumulative Perc Bad  \n",
       "0                    0.000011              0.000000             0.000098  \n",
       "1                    0.000021              0.000012             0.000098  \n",
       "2                    0.000032              0.000012             0.000196  \n",
       "3                    0.000043              0.000012             0.000294  \n",
       "4                    0.000054              0.000012             0.000393  "
      ]
     },
     "execution_count": 46,
     "metadata": {},
     "output_type": "execute_result"
    }
   ],
   "source": [
    "df_actual_predicted_probs['Cumulative N Population'] = df_actual_predicted_probs.index + 1\n",
    "df_actual_predicted_probs['Cumulative N Good'] = df_actual_predicted_probs['loan_data_targets_test'].cumsum()\n",
    "df_actual_predicted_probs['Cumulative N Bad'] = df_actual_predicted_probs['Cumulative N Population'] - df_actual_predicted_probs['loan_data_targets_test'].cumsum()\n",
    "df_actual_predicted_probs['Cumulative Perc Population'] = df_actual_predicted_probs['Cumulative N Population'] / (df_actual_predicted_probs.shape[0])\n",
    "df_actual_predicted_probs['Cumulative Perc Good'] = df_actual_predicted_probs['Cumulative N Good'] / df_actual_predicted_probs['loan_data_targets_test'].sum()\n",
    "df_actual_predicted_probs['Cumulative Perc Bad'] = df_actual_predicted_probs['Cumulative N Bad'] / (df_actual_predicted_probs.shape[0] - df_actual_predicted_probs['loan_data_targets_test'].sum())\n",
    "df_actual_predicted_probs.head()"
   ]
  },
  {
   "cell_type": "code",
   "execution_count": 47,
   "id": "8d6a4547",
   "metadata": {},
   "outputs": [
    {
     "data": {
      "text/plain": [
       "Text(0.5, 1.0, 'Gini')"
      ]
     },
     "execution_count": 47,
     "metadata": {},
     "output_type": "execute_result"
    },
    {
     "data": {
      "image/png": "[encoded data removed]",
      "text/plain": [
       "<Figure size 640x480 with 1 Axes>"
      ]
     },
     "metadata": {},
     "output_type": "display_data"
    }
   ],
   "source": [
    "plt.plot(df_actual_predicted_probs['Cumulative Perc Population'], df_actual_predicted_probs['Cumulative Perc Bad'])\n",
    "plt.plot(df_actual_predicted_probs['Cumulative Perc Population'], df_actual_predicted_probs['Cumulative Perc Population'], linestyle = '--', color = 'k')\n",
    "plt.xlabel('Cumulative % Population')\n",
    "plt.ylabel('Cumulative % Bad')\n",
    "plt.title('Gini')"
   ]
  },
  {
   "cell_type": "code",
   "execution_count": 48,
   "id": "4bc1993a",
   "metadata": {},
   "outputs": [
    {
     "data": {
      "text/plain": [
       "0.3995024707404511"
      ]
     },
     "execution_count": 48,
     "metadata": {},
     "output_type": "execute_result"
    }
   ],
   "source": [
    "Gini = AUROC * 2 - 1\n",
    "Gini"
   ]
  },
  {
   "cell_type": "markdown",
   "id": "9d667649",
   "metadata": {},
   "source": [
    "This Gini level indicates a fair model."
   ]
  },
  {
   "cell_type": "markdown",
   "id": "eb87d32f",
   "metadata": {},
   "source": [
    "## 4. Kolmogorov-Smirnov (KS)"
   ]
  },
  {
   "cell_type": "code",
   "execution_count": 49,
   "id": "22567c81",
   "metadata": {},
   "outputs": [
    {
     "data": {
      "text/plain": [
       "Text(0.5, 1.0, 'Kolmogorov-Smirnov')"
      ]
     },
     "execution_count": 49,
     "metadata": {},
     "output_type": "execute_result"
    },
    {
     "data": {
      "image/png": "[encoded data removed]",
      "text/plain": [
       "<Figure size 640x480 with 1 Axes>"
      ]
     },
     "metadata": {},
     "output_type": "display_data"
    }
   ],
   "source": [
    "plt.plot(df_actual_predicted_probs['y_hat_test_proba'], df_actual_predicted_probs['Cumulative Perc Bad'], color = 'r')\n",
    "plt.plot(df_actual_predicted_probs['y_hat_test_proba'], df_actual_predicted_probs['Cumulative Perc Good'], color = 'b')\n",
    "plt.xlabel('Estimated Probability for being Good')\n",
    "plt.ylabel('Cumulative %')\n",
    "plt.title('Kolmogorov-Smirnov')"
   ]
  },
  {
   "cell_type": "code",
   "execution_count": 50,
   "id": "1cb1c6ce",
   "metadata": {},
   "outputs": [
    {
     "data": {
      "text/plain": [
       "0.2943211524641193"
      ]
     },
     "execution_count": 50,
     "metadata": {},
     "output_type": "execute_result"
    }
   ],
   "source": [
    "KS = max(df_actual_predicted_probs['Cumulative Perc Bad'] - df_actual_predicted_probs['Cumulative Perc Good'])\n",
    "KS"
   ]
  },
  {
   "cell_type": "markdown",
   "id": "6cd8880d",
   "metadata": {},
   "source": [
    "Again, this KS level indicates that the model has fair discriminatory power."
   ]
  }
 ],
 "metadata": {
  "kernelspec": {
   "display_name": "Python 3",
   "language": "python",
   "name": "python3"
  },
  "language_info": {
   "codemirror_mode": {
    "name": "ipython",
    "version": 3
   },
   "file_extension": ".py",
   "mimetype": "text/x-python",
   "name": "python",
   "nbconvert_exporter": "python",
   "pygments_lexer": "ipython3",
   "version": "3.11.1"
  }
 },
 "nbformat": 4,
 "nbformat_minor": 5
}
