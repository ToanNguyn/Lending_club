{
 "cells": [
  {
   "cell_type": "markdown",
   "id": "9d5e993b",
   "metadata": {},
   "source": [
    "# I. Importing libraries and dataset "
   ]
  },
  {
   "cell_type": "code",
   "execution_count": null,
   "id": "35924179",
   "metadata": {},
   "outputs": [],
   "source": [
    "import pandas as pd \n",
    "import pickle\n",
    "import warnings\n",
    "warnings.filterwarnings(\"ignore\")"
   ]
  },
  {
   "cell_type": "code",
   "execution_count": 35,
   "id": "15b428b7",
   "metadata": {},
   "outputs": [],
   "source": [
    "reg_pd = pickle.load(open('pd_model.sav', 'rb'))"
   ]
  },
  {
   "cell_type": "code",
   "execution_count": 36,
   "id": "633bb6df",
   "metadata": {},
   "outputs": [],
   "source": [
    "with open('feature_list', 'rb') as f:\n",
    "    features_all_pd = pickle.load(f)\n",
    "\n",
    "with open('ref_categories', 'rb') as f:\n",
    "    ref_categories_pd = pickle.load(f)"
   ]
  },
  {
   "cell_type": "code",
   "execution_count": 37,
   "id": "c3dd651e",
   "metadata": {},
   "outputs": [],
   "source": [
    "loan_data_inputs_train = pd.read_csv('X_train.csv')\n",
    "loan_data_inputs_test = pd.read_csv('X_test.csv')"
   ]
  },
  {
   "cell_type": "code",
   "execution_count": 38,
   "id": "8dfe0268",
   "metadata": {},
   "outputs": [],
   "source": [
    "LGD = pd.read_csv('LGD.csv', index_col=0).iloc[:, 0]\n",
    "EAD = pd.read_csv('EAD.csv', index_col=0).iloc[:, 0]"
   ]
  },
  {
   "cell_type": "code",
   "execution_count": 39,
   "id": "5821f9b7",
   "metadata": {},
   "outputs": [],
   "source": [
    "loan_data_inputs_pd = pd.concat([loan_data_inputs_train, loan_data_inputs_test], axis = 0)\n",
    "loan_data_inputs_pd = loan_data_inputs_pd.set_index('Unnamed: 0')"
   ]
  },
  {
   "cell_type": "code",
   "execution_count": 40,
   "id": "1ea7b5c5",
   "metadata": {},
   "outputs": [],
   "source": [
    "loan_data_inputs_pd_temp = loan_data_inputs_pd[features_all_pd]\n",
    "loan_data_inputs_pd_temp = loan_data_inputs_pd_temp.drop(ref_categories_pd, axis = 1)"
   ]
  },
  {
   "cell_type": "markdown",
   "id": "e2f50253",
   "metadata": {},
   "source": [
    "# II. Estimating PD for whole data set"
   ]
  },
  {
   "cell_type": "code",
   "execution_count": 41,
   "id": "f5011d59",
   "metadata": {},
   "outputs": [
    {
     "name": "stderr",
     "output_type": "stream",
     "text": [
      "c:\\Users\\PC\\AppData\\Local\\Programs\\Python\\Python311\\Lib\\site-packages\\sklearn\\utils\\validation.py:2732: UserWarning: X has feature names, but LogisticRegression was fitted without feature names\n",
      "  warnings.warn(\n"
     ]
    },
    {
     "data": {
      "text/plain": [
       "array([0.03072263, 0.09824766, 0.0342913 , ..., 0.03121185, 0.04439572,\n",
       "       0.05244923])"
      ]
     },
     "execution_count": 41,
     "metadata": {},
     "output_type": "execute_result"
    }
   ],
   "source": [
    "reg_pd.model.predict_proba(loan_data_inputs_pd_temp)[: ][: , 0]"
   ]
  },
  {
   "cell_type": "code",
   "execution_count": 42,
   "id": "71d82d3f",
   "metadata": {},
   "outputs": [
    {
     "name": "stderr",
     "output_type": "stream",
     "text": [
      "c:\\Users\\PC\\AppData\\Local\\Programs\\Python\\Python311\\Lib\\site-packages\\sklearn\\utils\\validation.py:2732: UserWarning: X has feature names, but LogisticRegression was fitted without feature names\n",
      "  warnings.warn(\n"
     ]
    }
   ],
   "source": [
    "loan_data_inputs_pd['PD'] = reg_pd.model.predict_proba(loan_data_inputs_pd_temp)[: ][: , 0]"
   ]
  },
  {
   "cell_type": "markdown",
   "id": "79ef8f86",
   "metadata": {},
   "source": [
    "# III. Calculating EL"
   ]
  },
  {
   "cell_type": "code",
   "execution_count": 43,
   "id": "7fb41aa1",
   "metadata": {},
   "outputs": [
    {
     "data": {
      "text/plain": [
       "count    466285.000000\n",
       "mean       1079.187164\n",
       "std        1088.473565\n",
       "min           9.492234\n",
       "25%         356.388075\n",
       "50%         706.886312\n",
       "75%        1403.224562\n",
       "max       12091.043698\n",
       "Name: EL, dtype: float64"
      ]
     },
     "execution_count": 43,
     "metadata": {},
     "output_type": "execute_result"
    }
   ],
   "source": [
    "loan_data_inputs_pd['EL'] = loan_data_inputs_pd['PD'] * LGD * EAD\n",
    "loan_data_inputs_pd['EL'].describe()"
   ]
  },
  {
   "cell_type": "code",
   "execution_count": 51,
   "id": "07565f3e",
   "metadata": {},
   "outputs": [
    {
     "data": {
      "text/html": [
       "<div>\n",
       "<style scoped>\n",
       "    .dataframe tbody tr th:only-of-type {\n",
       "        vertical-align: middle;\n",
       "    }\n",
       "\n",
       "    .dataframe tbody tr th {\n",
       "        vertical-align: top;\n",
       "    }\n",
       "\n",
       "    .dataframe thead th {\n",
       "        text-align: right;\n",
       "    }\n",
       "</style>\n",
       "<table border=\"1\" class=\"dataframe\">\n",
       "  <thead>\n",
       "    <tr style=\"text-align: right;\">\n",
       "      <th></th>\n",
       "      <th>funded_amnt</th>\n",
       "      <th>EL</th>\n",
       "    </tr>\n",
       "  </thead>\n",
       "  <tbody>\n",
       "    <tr>\n",
       "      <th>0</th>\n",
       "      <td>24000</td>\n",
       "      <td>495.592112</td>\n",
       "    </tr>\n",
       "    <tr>\n",
       "      <th>1</th>\n",
       "      <td>10000</td>\n",
       "      <td>576.171909</td>\n",
       "    </tr>\n",
       "    <tr>\n",
       "      <th>2</th>\n",
       "      <td>20425</td>\n",
       "      <td>389.680684</td>\n",
       "    </tr>\n",
       "    <tr>\n",
       "      <th>3</th>\n",
       "      <td>17200</td>\n",
       "      <td>1875.438388</td>\n",
       "    </tr>\n",
       "    <tr>\n",
       "      <th>4</th>\n",
       "      <td>8400</td>\n",
       "      <td>948.908144</td>\n",
       "    </tr>\n",
       "  </tbody>\n",
       "</table>\n",
       "</div>"
      ],
      "text/plain": [
       "   funded_amnt           EL\n",
       "0        24000   495.592112\n",
       "1        10000   576.171909\n",
       "2        20425   389.680684\n",
       "3        17200  1875.438388\n",
       "4         8400   948.908144"
      ]
     },
     "execution_count": 51,
     "metadata": {},
     "output_type": "execute_result"
    }
   ],
   "source": [
    "loan_data_inputs_pd.reset_index(drop=True, inplace=True)\n",
    "loan_data_inputs_pd[['funded_amnt', 'EL']].head()"
   ]
  },
  {
   "cell_type": "code",
   "execution_count": 52,
   "id": "2061ec87",
   "metadata": {},
   "outputs": [
    {
     "data": {
      "text/plain": [
       "count    466285.000000\n",
       "mean      14291.801044\n",
       "std        8274.371300\n",
       "min         500.000000\n",
       "25%        8000.000000\n",
       "50%       12000.000000\n",
       "75%       20000.000000\n",
       "max       35000.000000\n",
       "Name: funded_amnt, dtype: float64"
      ]
     },
     "execution_count": 52,
     "metadata": {},
     "output_type": "execute_result"
    }
   ],
   "source": [
    "loan_data_inputs_pd['funded_amnt'].describe()"
   ]
  },
  {
   "cell_type": "code",
   "execution_count": 53,
   "id": "a89a560b",
   "metadata": {},
   "outputs": [
    {
     "data": {
      "text/plain": [
       "503208786.86658317"
      ]
     },
     "execution_count": 53,
     "metadata": {},
     "output_type": "execute_result"
    }
   ],
   "source": [
    "loan_data_inputs_pd['EL'].sum()"
   ]
  },
  {
   "cell_type": "code",
   "execution_count": 54,
   "id": "745bcbd2",
   "metadata": {},
   "outputs": [
    {
     "data": {
      "text/plain": [
       "6664052450"
      ]
     },
     "execution_count": 54,
     "metadata": {},
     "output_type": "execute_result"
    }
   ],
   "source": [
    "loan_data_inputs_pd['funded_amnt'].sum()"
   ]
  },
  {
   "cell_type": "code",
   "execution_count": 55,
   "id": "1dd85fc8",
   "metadata": {},
   "outputs": [
    {
     "data": {
      "text/plain": [
       "0.07551092831908655"
      ]
     },
     "execution_count": 55,
     "metadata": {},
     "output_type": "execute_result"
    }
   ],
   "source": [
    "loan_data_inputs_pd['EL'].sum() / loan_data_inputs_pd['funded_amnt'].sum()"
   ]
  }
 ],
 "metadata": {
  "kernelspec": {
   "display_name": "Python 3",
   "language": "python",
   "name": "python3"
  },
  "language_info": {
   "codemirror_mode": {
    "name": "ipython",
    "version": 3
   },
   "file_extension": ".py",
   "mimetype": "text/x-python",
   "name": "python",
   "nbconvert_exporter": "python",
   "pygments_lexer": "ipython3",
   "version": "3.11.1"
  }
 },
 "nbformat": 4,
 "nbformat_minor": 5
}
